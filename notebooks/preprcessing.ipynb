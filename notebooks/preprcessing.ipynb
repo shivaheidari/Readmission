{
 "cells": [
  {
   "cell_type": "code",
   "execution_count": 1,
   "metadata": {},
   "outputs": [],
   "source": [
    "import pandas as pd"
   ]
  },
  {
   "cell_type": "markdown",
   "metadata": {},
   "source": [
    "load data from mongodb\n",
    "</br>\n",
    "clean and preprocess: tokenization, ...\n",
    "</br>\n",
    "Handle class imbalances\n",
    "</br>\n",
    "split data into training and validation, and test\n",
    "</br>\n",
    "convert text to numbers"
   ]
  }
 ],
 "metadata": {
  "kernelspec": {
   "display_name": "env_pred",
   "language": "python",
   "name": "python3"
  },
  "language_info": {
   "codemirror_mode": {
    "name": "ipython",
    "version": 3
   },
   "file_extension": ".py",
   "mimetype": "text/x-python",
   "name": "python",
   "nbconvert_exporter": "python",
   "pygments_lexer": "ipython3",
   "version": "3.10.12"
  }
 },
 "nbformat": 4,
 "nbformat_minor": 2
}
